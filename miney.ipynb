{
 "cells": [
  {
   "cell_type": "code",
   "execution_count": 4,
   "metadata": {},
   "outputs": [],
   "source": [
    "Groq_API_KEY='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'"
   ]
  },
  {
   "cell_type": "code",
   "execution_count": 5,
   "metadata": {},
   "outputs": [],
   "source": [
    "import os\n",
    "\n",
    "from groq import Groq\n",
    "\n",
    "client = Groq(\n",
    "    api_key=Groq_API_KEY,\n",
    ")"
   ]
  },
  {
   "cell_type": "code",
   "execution_count": 6,
   "metadata": {},
   "outputs": [],
   "source": [
    "Input=input(\"Enter your input:\")"
   ]
  },
  {
   "cell_type": "code",
   "execution_count": 7,
   "metadata": {},
   "outputs": [
    {
     "name": "stdout",
     "output_type": "stream",
     "text": [
      "[In Morgan Freeman's voice]\n",
      "\n",
      "\"Now, I know what you're thinkin'. What in the world is a quantum computer? Well, let me tell you, my friend. It's a machine that's gonna change the game. See, classical computers, they're like the trusty old sedan of the digital world. They get the job done, but they're limited. They can only process information one bit at a time, like a series of 0s and 1s.\n",
      "\n",
      "But quantum computers, ah, they're like a sleek, high-performance sports car. They can process information in a whole different way, using something called quantum bits, or qubits for short. And these qubits, they can exist in multiple states at the same time, like 0 and 1 simultaneously. It's like bein' in two places at once, my friend.\n",
      "\n",
      "Imagine you're tryin' to find a specific grain of sand on a beach. A classical computer would have to look through the sand one grain at a time, but a quantum computer could look at the whole beach at once and find that grain in no time. It's like havin' a superpower, man.\n",
      "\n",
      "Now, I know this sounds like somethin' out of a sci-fi movie, but trust me, it's real. And it's gonna change the way we live, work, and play. Quantum computers are gonna help us solve problems that are too complex for classical computers, like breakin' codes, simulating complex systems, and optimizing complex processes.\n",
      "\n",
      "But here's the thing, my friend. This technology is still in its infancy. It's like tryin' to tame a wild mustang. We're still learnin' how to harness its power, how to program it, and how to make it reliable. But the potential, oh man, the potential is enormous.\n",
      "\n",
      "So, what does this mean for you and me? Well, it means that we're on the cusp of a revolution. A revolution that's gonna make our lives easier, faster, and more convenient. It's like havin' a personal assistant that can do anything you want, at any time.\n",
      "\n",
      "But, as with any great power, comes great responsibility. We gotta make sure we use this technology for good, and not for evil. We gotta make sure we protect ourselves from those who would misuse it.\n",
      "\n",
      "So, that's quantum computers in a nutshell, my friend. It's the future, and it's comin' fast. Buckle up, 'cause it's gonna be a wild ride.\"\n",
      "\n",
      "[Pauses]\n",
      "\n",
      "\"And that's the way it is.\"\n"
     ]
    }
   ],
   "source": [
    "chat_completion = client.chat.completions.create(\n",
    "    messages=[\n",
    "        {\n",
    "            \"role\": \"user\",\n",
    "            \"content\":Input,\n",
    "        }\n",
    "    ],\n",
    "    model=\"llama3-70b-8192\",\n",
    ")\n",
    "\n",
    "print(chat_completion.choices[0].message.content)"
   ]
  }
 ],
 "metadata": {
  "kernelspec": {
   "display_name": "Python 3",
   "language": "python",
   "name": "python3"
  },
  "language_info": {
   "codemirror_mode": {
    "name": "ipython",
    "version": 3
   },
   "file_extension": ".py",
   "mimetype": "text/x-python",
   "name": "python",
   "nbconvert_exporter": "python",
   "pygments_lexer": "ipython3",
   "version": "3.10.0"
  }
 },
 "nbformat": 4,
 "nbformat_minor": 2
}
